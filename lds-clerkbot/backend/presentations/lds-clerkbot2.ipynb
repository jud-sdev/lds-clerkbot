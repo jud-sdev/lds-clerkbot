{
 "cells": [
  {
   "cell_type": "markdown",
   "metadata": {
    "slideshow": {
     "slide_type": "slide"
    }
   },
   "source": [
    "# Document-based Question Answering for Clerks (LDS-Clerkbot)\n",
    "\n",
    "---"
   ]
  },
  {
   "cell_type": "markdown",
   "metadata": {
    "slideshow": {
     "slide_type": "slide"
    }
   },
   "source": [
    "## Projects Goal\n",
    "Clerks in various church units (ward/stake/branch/district) often struggle during their initial months, especially if they haven't received adequate training from their predecessors. The primary aim of this project is to create a tool that provides clerks with the guidance they need whenever they are unsure about their duties, roles, and responsibilities.\n",
    "\n",
    "---"
   ]
  },
  {
   "cell_type": "markdown",
   "metadata": {
    "slideshow": {
     "slide_type": "slide"
    }
   },
   "source": [
    "## Data Sources:\n",
    "Data for this project will be sourced from:\n",
    "- The General Handbook of the Church of Jesus Christ of Latter-Day Saints\n",
    "- Tech Forum - Community Discussion of Church Technology (Labelled data)\n",
    "---"
   ]
  },
  {
   "cell_type": "markdown",
   "metadata": {
    "slideshow": {
     "slide_type": "slide"
    }
   },
   "source": [
    "## Tools for the Project\n",
    "The tools I've used so far\n",
    "- LLamaIndex\n",
    "- Render\n",
    "- Jupyter Notebook\n",
    "---"
   ]
  },
  {
   "cell_type": "markdown",
   "metadata": {
    "slideshow": {
     "slide_type": "slide"
    }
   },
   "source": [
    "## What i've done so far\n",
    "- Created a repository on GitHub\n",
    "- Cloned it to my local machine\n",
    "- Installed LLamaIndex\n",
    "- Experimented with different models\n",
    "- Deployed the project on Render\n",
    "- Crawled the general handbook\n",
    "- Converted the data to md and replaced the dummy file.\n",
    "- Cleaned the data (Data not properly arranged)\n",
    "- Generated 50 sets of labelled data from lds-tech forum (used GPT-4o to extract questions and answers)\n",
    "- Compared the answers generated from Handbook using openai model with the human-generated answers\n",
    "- \n",
    "---\n"
   ]
  },
  {
   "cell_type": "markdown",
   "metadata": {},
   "source": [
    "## What next\n",
    "- Do EDA on Q&A\n",
    "- Optimize querry sent to the index\n",
    "- Hyperparameter optimization\n",
    "- Make the frontend better"
   ]
  },
  {
   "cell_type": "markdown",
   "metadata": {},
   "source": [
    "### Project repository link on github:\n",
    "https://github.com/jud-sdev/lds-clerkbot"
   ]
  },
  {
   "cell_type": "markdown",
   "metadata": {
    "slideshow": {
     "slide_type": "slide"
    }
   },
   "source": [
    "# Thank You"
   ]
  }
 ],
 "metadata": {
  "language_info": {
   "name": "python"
  }
 },
 "nbformat": 4,
 "nbformat_minor": 2
}
