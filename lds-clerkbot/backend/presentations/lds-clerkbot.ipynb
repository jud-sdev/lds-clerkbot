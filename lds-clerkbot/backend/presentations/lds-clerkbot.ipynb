{
 "cells": [
  {
   "cell_type": "markdown",
   "metadata": {},
   "source": [
    "# Document-based Question Answering for Clerks (LDS-Clerkbot)"
   ]
  },
  {
   "cell_type": "markdown",
   "metadata": {},
   "source": [
    "## Projects Goal\n",
    "Clerks in various church units (ward/stake/branch/district) often struggle during their initial months, especially if they haven't received adequate training from their predecessors. The primary aim of this project is to create a tool that provides clerks with the guidance they need whenever they are unsure about their duties, roles, and responsibilities."
   ]
  },
  {
   "cell_type": "markdown",
   "metadata": {},
   "source": [
    "## Data Sources:\n",
    "Data for this project will be sourced from:\n",
    "- The General Handbook of the Church of Jesus Christ of Latter-Day Saints\n",
    "- Tech Forum - Community Discussion of Church Technology\n",
    "- Manually labeled questions and answers\n"
   ]
  },
  {
   "cell_type": "markdown",
   "metadata": {},
   "source": [
    "## Tools for the Project\n",
    "The tools I'll be using include:\n",
    "- LLamaIndex\n",
    "- Render/Vercel\n",
    "- Jupyter Notebook\n",
    "- DSPy, Optuna, etc."
   ]
  },
  {
   "cell_type": "markdown",
   "metadata": {},
   "source": [
    "## What i've done so far\n",
    "- Created a repository on GitHub\n",
    "- Cloned it to my local machine\n",
    "- Installed LLamaIndex\n",
    "- Deployed the project on Render\n",
    "- Tested it with other documents to ensure functionality\n",
    "- Working on a crawler script to retrieve pages from the General Handbook\n",
    "- Planning to write a script to crawl the Tech Forum website\n"
   ]
  },
  {
   "cell_type": "markdown",
   "metadata": {},
   "source": [
    "# Thank You"
   ]
  }
 ],
 "metadata": {
  "language_info": {
   "name": "python"
  }
 },
 "nbformat": 4,
 "nbformat_minor": 2
}
