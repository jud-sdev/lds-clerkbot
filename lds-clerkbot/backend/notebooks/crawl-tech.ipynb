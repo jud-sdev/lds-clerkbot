{
 "cells": [
  {
   "cell_type": "code",
   "execution_count": 1,
   "metadata": {},
   "outputs": [],
   "source": [
    "%load_ext autoreload\n",
    "%autoreload 2\n",
    "%load_ext dotenv\n",
    "%dotenv"
   ]
  },
  {
   "cell_type": "code",
   "execution_count": null,
   "metadata": {},
   "outputs": [],
   "source": [
    "import json\n",
    "import os\n",
    "import requests\n",
    "import time\n",
    "from typing import Optional\n",
    "from typing import Tuple\n",
    "from urllib.parse import urljoin, urlparse\n",
    "\n",
    "from bs4 import BeautifulSoup"
   ]
  },
  {
   "cell_type": "code",
   "execution_count": null,
   "metadata": {},
   "outputs": [],
   "source": [
    "year = 2024\n",
    "month = '04'\n",
    "host = 'https://www.churchofjesuschrist.org'\n",
    "base_dir = 'data/'\n",
    "bs_parser = 'html.parser'\n",
    "delay_seconds = 5\n",
    "\n",
    "if not os.path.exists(base_dir):\n",
    "    os.makedirs(base_dir)"
   ]
  },
  {
   "cell_type": "code",
   "execution_count": null,
   "metadata": {},
   "outputs": [],
   "source": [
    "def _is_talk_url(url):\n",
    "    \"\"\"A talk URL has 6 components (first component is empty) and last component does not end in -session.\"\"\"\n",
    "    path_components = urlparse(url).path.split('/')\n",
    "    return len(path_components) == 6 and not path_components[-1].endswith('-session')\n",
    "\n",
    "\n",
    "def get_talk_urls(base_url, html):\n",
    "    \"\"\"Find all talk URLs on the page.\"\"\"\n",
    "    soup = BeautifulSoup(html, bs_parser)\n",
    "    return [urljoin(base_url, a['href']) for a in soup.find_all('a', href=True) \\\n",
    "            if _is_talk_url(urljoin(base_url, a['href']))]\n",
    "\n",
    "\n",
    "def get_talk_path(url):\n",
    "    \"\"\"Return the file path for saving the talk.\"\"\"\n",
    "    path_components = urlparse(url).path.split('/')\n",
    "    year, month, title = path_components[3:6]\n",
    "    return os.path.join(base_dir, f\"{year}-{month}-{title}.json\")\n",
    "\n",
    "# this function uses type hints like typescript to help your IDE detect errors in what you pass to the function\n",
    "def get_page(\n",
    "    url: str,\n",
    "    delay_seconds: int = 30,\n",
    "    headers: Optional[dict[str, str]] = None,\n",
    "    encoding: str = \"utf-8\",\n",
    "    timeout: int = 30,\n",
    ") -> Tuple[int, str]:\n",
    "    \"\"\"Get page from url.\"\"\"\n",
    "    if headers is None:\n",
    "        # make your program look like a chrome\n",
    "        headers = {\n",
    "            \"Accept\": \"text/html,application/xhtml+xml,application/xml;q=0.9,image/avif,image/webp,image/apng,*/*;q=0.8,application/signed-exchange;v=b3;q=0.7\",  # noqa: B950\n",
    "            \"Accept-Encoding\": \"gzip, deflate\",  # gzip, deflate, br, zstd\n",
    "            \"Accept-Language\": \"en-US,en;q=0.9\",\n",
    "            \"Cache-Control\": \"no-cache\",\n",
    "            \"Cookie\": \"TAsessionID=8f51490c-5611-45b6-9847-8585037a0e1b|NEW; notice_behavior=implied|us; gpv_Page=general-conference%7C2024%7C04%7C11oaks; gpv_cURL=www.churchofjesuschrist.org%2Fstudy%2Fgeneral-conference%2F2024%2F04%2F11oaks; s_ips=838; s_tp=1517; s_ppv=general-conference%257C2024%257C04%257C11oaks%2C55%2C55%2C55%2C838%2C1%2C1; AMCVS_66C5485451E56AAE0A490D45%40AdobeOrg=1; AMCV_66C5485451E56AAE0A490D45%40AdobeOrg=179643557%7CMCIDTS%7C19909%7CMCMID%7C88116570082250571280802679967931299750%7CMCAAMLH-1720711596%7C9%7CMCAAMB-1720711596%7C6G1ynYcLPuiQxYZrsz_pkqfLG9yMXBpb2zX5dvJdYQJzPXImdj0y%7CMCOPTOUT-1720113996s%7CNONE%7CvVersion%7C5.5.0; s_cc=true; s_plt=1.01; s_pltp=general-conference%7C2024%7C04%7C11oaks; adcloud={%22_les_v%22:%22c%2Cy%2Cchurchofjesuschrist.org%2C1720108596%22}; at_check=true; mbox=session#6bb5efff4aea494c8e2e9c7d3469ab29#1720108658|PC#6bb5efff4aea494c8e2e9c7d3469ab29.35_0#1783351598\",\n",
    "            \"Pragma\": \"no-cache\",\n",
    "            \"Priority\": \"u=0, i\",\n",
    "            \"Sec-Ch-Ua\": '\"Google Chrome\";v=\"125\", \"Chromium\";v=\"125\", \"Not.A/Brand\";v=\"24\"',\n",
    "            \"Sec-Ch-Ua-Mobile\": \"?0\",\n",
    "            \"Sec-Ch-Ua-Platform\": '\"macOS\"',\n",
    "            \"Sec-Fetch-Dest\": \"document\",\n",
    "            \"Sec-Fetch-Mode\": \"navigate\",\n",
    "            \"Sec-Fetch-Site\": \"same-origin\",\n",
    "            \"Sec-Fetch-User\": \"?1\",\n",
    "            \"Upgrade-Insecure-Requests\": \"1\",\n",
    "            \"User-Agent\": \"Mozilla/5.0 (Macintosh; Intel Mac OS X 10_15_7) AppleWebKit/537.36 (KHTML, like Gecko) Chrome/125.0.0.0 Safari/537.36\",  # noqa: B950\n",
    "        }\n",
    "    # make the request\n",
    "    response = requests.get(url, headers=headers, timeout=timeout)\n",
    "    # wait \n",
    "    time.sleep(delay_seconds)\n",
    "    if encoding:\n",
    "        response.encoding = encoding\n",
    "    return response.status_code, response.text\n",
    "\n",
    "\n",
    "def save_page(path: str, url: str, html: str, encoding: str = \"utf-8\") -> None:\n",
    "    \"\"\"Save page url and html to path.\"\"\"\n",
    "    page_info = {\n",
    "        \"url\": url,\n",
    "        \"html\": html,\n",
    "    }\n",
    "    with open(path, \"w\", encoding=encoding) as f:\n",
    "        json.dump(page_info, f, ensure_ascii=False, indent=2)"
   ]
  },
  {
   "cell_type": "code",
   "execution_count": null,
   "metadata": {},
   "outputs": [],
   "source": [
    "dir_url = f\"{host}/study/general-conference/{year}/{month}?lang=eng\"\n",
    "# get the root page\n",
    "status_code, dir_html = get_page(dir_url, delay_seconds)\n",
    "if status_code != 200:\n",
    "    print(f\"Status code={status_code} url={dir_url}\")"
   ]
  },
  {
   "cell_type": "code",
   "execution_count": null,
   "metadata": {},
   "outputs": [],
   "source": [
    "# get all of the talk URLs from the conference root\n",
    "talk_urls = get_talk_urls(dir_url, dir_html)\n",
    "print(dir_url, len(talk_urls))"
   ]
  },
  {
   "cell_type": "code",
   "execution_count": null,
   "metadata": {},
   "outputs": [],
   "source": [
    "# fetch each talk\n",
    "for ix, talk_url in enumerate(talk_urls):\n",
    "    path = get_talk_path(talk_url)\n",
    "    # don't re-crawl if you've already crawled\n",
    "    if os.path.exists(path):\n",
    "        continue\n",
    "    print(\"    \", path)\n",
    "    status_code, talk_html = get_page(talk_url, delay_seconds)\n",
    "    if status_code != 200:\n",
    "        print(f\"Status code={status_code} url={talk_url}\")\n",
    "        continue\n",
    "    save_page(path, talk_url, talk_html)\n",
    "    if ix > 10:\n",
    "        break"
   ]
  }
 ],
 "metadata": {
  "kernelspec": {
   "display_name": ".venv",
   "language": "python",
   "name": "python3"
  },
  "language_info": {
   "codemirror_mode": {
    "name": "ipython",
    "version": 3
   },
   "file_extension": ".py",
   "mimetype": "text/x-python",
   "name": "python",
   "nbconvert_exporter": "python",
   "pygments_lexer": "ipython3",
   "version": "3.11.9"
  }
 },
 "nbformat": 4,
 "nbformat_minor": 2
}
