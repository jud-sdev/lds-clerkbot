{
 "cells": [
  {
   "cell_type": "code",
   "execution_count": 1,
   "metadata": {},
   "outputs": [],
   "source": [
    "import csv\n",
    "\n",
    "# Data to be written to the CSV file\n",
    "data = [\n",
    "    [\"Source\", \"Question\", \"Answer\"],\n",
    "    [\"https://tech.churchofjesuschrist.org/forum/viewtopic.php?f=50&t=39092\", \"How can a stake clerk access ward clerk/secretary roles?\", \"Stake clerks can view some ward information but not all specific roles, which must be managed at the ward level.\"],\n",
    "    [\"https://tech.churchofjesuschrist.org/forum/viewtopic.php?f=50&t=39092\", \"Why can't I see predefined positions for bishopric categories?\", \"Updating ward clerks and assistant ward clerks should be done by the ward, not at the stake level.\"],\n",
    "    [\"https://tech.churchofjesuschrist.org/forum/viewtopic.php?f=50&t=39074\", \"How do I take attendance on a phone?\", \"Use the LCR web app or Member Tools to access Class and Quorum Attendance.\"],\n",
    "    [\"https://tech.churchofjesuschrist.org/forum/viewtopic.php?f=50&t=39097\", \"Can stake clerks request membership records?\", \"Stake clerks should contact the ward clerk to request new recommend holders' membership records.\"],\n",
    "    [\"https://tech.churchofjesuschrist.org/forum/viewtopic.php?f=50&t=39088\", \"What resources are available for stake financial clerk training?\", \"There are handbooks, articles in the Help Center, and training videos available online.\"],\n",
    "    [\"https://tech.churchofjesuschrist.org/forum/viewtopic.php?f=50&t=39094\", \"Why can only one person hold the ward assistant clerk—finance position?\", \"Each unit can have only one person assigned to this position to avoid confusion and overlapping duties.\"],\n",
    "    [\"https://tech.churchofjesuschrist.org/forum/viewtopic.php?f=50&t=39092\", \"What do I do if there are issues updating positions in LCR?\", \"Ensure that you are updating positions under the correct organization and category.\"],\n",
    "    [\"https://tech.churchofjesuschrist.org/forum/viewtopic.php?f=50&t=39074\", \"How can I improve the training for clerks?\", \"Collaborate on user-created content in the forum and the wiki, and search for existing resources in the Help Center.\"],\n",
    "    [\"https://tech.churchofjesuschrist.org/forum/viewtopic.php?f=50&t=39097\", \"How do I find training materials for my calling?\", \"Use the Help Center and perform Google searches with specific criteria to locate the needed resources.\"],\n",
    "    [\"https://tech.churchofjesuschrist.org/forum/viewtopic.php?f=50&t=39088\", \"What should I do if I can't find predefined positions for assistant ward clerks?\", \"Verify that updates are done under the ward's leadership and the correct organization category.\"],\n",
    "    [\"https://tech.churchofjesuschrist.org/forum/viewtopic.php?f=50&t=39092\", \"Can I take attendance using Member Tools?\", \"Yes, clerks can take attendance using the Class and Quorum Attendance feature in Member Tools.\"],\n",
    "    [\"https://tech.churchofjesuschrist.org/forum/viewtopic.php?f=50&t=39074\", \"How do I handle multiple assistant financial ward clerks?\", \"Ensure that only one person is assigned to the position of assistant financial ward clerk to comply with guidelines.\"],\n",
    "    [\"https://tech.churchofjesuschrist.org/forum/viewtopic.php?f=50&t=39097\", \"Why can't stake clerks update certain positions?\", \"Specific positions must be managed by the ward, not the stake, to maintain proper leadership structure.\"],\n",
    "    [\"https://tech.churchofjesuschrist.org/forum/viewtopic.php?f=50&t=39088\", \"What should I do if there are issues requesting records?\", \"Contact the ward clerk to request membership records and ensure the process is completed correctly.\"],\n",
    "    [\"https://tech.churchofjesuschrist.org/forum/viewtopic.php?f=50&t=39092\", \"Where can I find training videos for clerks?\", \"Training videos are available in the Help Center and other online resources provided by the church.\"],\n",
    "    [\"https://tech.churchofjesuschrist.org/forum/viewtopic.php?f=50&t=39074\", \"How do I manage attendance for different classes and quorums?\", \"Use the dropdown menu in LCR or the menu icon in Member Tools to select specific classes or quorums.\"],\n",
    "    [\"https://tech.churchofjesuschrist.org/forum/viewtopic.php?f=50&t=39094\", \"Can multiple people hold the position of stake assistant clerk?\", \"Only one person should hold each assistant clerk position to avoid conflicts and ensure clear responsibilities.\"],\n",
    "    [\"https://tech.churchofjesuschrist.org/forum/viewtopic.php?f=50&t=39088\", \"How can I ensure proper training for new clerks?\", \"Utilize the resources available in the Help Center, training videos, and collaborative content in the forum.\"],\n",
    "    [\"https://tech.churchofjesuschrist.org/forum/viewtopic.php?f=50&t=39092\", \"What steps should I take if I encounter issues updating leadership positions?\", \"Double-check that updates are done under the correct categories and organizations in LCR.\"],\n",
    "    [\"https://tech.churchofjesuschrist.org/forum/viewtopic.php?f=50&t=39074\", \"How do I report attendance using the web app?\", \"Access LCR > Reports > Class and Quorum Attendance to report attendance.\"],\n",
    "    [\"https://tech.churchofjesuschrist.org/forum/viewtopic.php?f=50&t=39097\", \"What should I do if there are discrepancies in membership records?\", \"Contact the ward clerk to resolve discrepancies and ensure accurate information.\"],\n",
    "    [\"https://tech.churchofjesuschrist.org/forum/viewtopic.php?f=50&t=39088\", \"How can I find specific training articles for clerks?\", \"Perform targeted searches in the Help Center and collaborate with other clerks on the forum.\"],\n",
    "    [\"https://tech.churchofjesuschrist.org/forum/viewtopic.php?f=50&t=39092\", \"Why are predefined positions not visible for certain categories?\", \"Make sure you are updating the correct organization and category in LCR.\"],\n",
    "    [\"https://tech.churchofjesuschrist.org/forum/viewtopic.php?f=50&t=39074\", \"How do I use Member Tools for attendance tracking?\", \"Access the attendance tracking feature in Member Tools and update records regularly.\"],\n",
    "    [\"https://tech.churchofjesuschrist.org/forum/viewtopic.php?f=50&t=39097\", \"What is the proper process for requesting membership records?\", \"Request records through the LCR system and follow up with the previous ward if necessary.\"],\n",
    "    [\"https://tech.churchofjesuschrist.org/forum/viewtopic.php?f=50&t=39088\", \"Where can I find financial training resources for clerks?\", \"Check the Help Center and online training resources provided by the church.\"],\n",
    "    [\"https://tech.churchofjesuschrist.org/forum/viewtopic.php?f=50&t=39092\", \"How do I ensure accurate updates for ward clerks and assistants?\", \"Verify updates are done under the correct categories and organizations in LCR.\"],\n",
    "    [\"https://tech.churchofjesuschrist.org/forum/viewtopic.php?f=50&t=39074\", \"Can I access attendance reports from my phone?\", \"Yes, you can access and update attendance reports using the LCR web app or Member Tools.\"],\n",
    "    [\"https://tech.churchofjesuschrist.org/forum/viewtopic.php?f=50&t=39097\", \"What is the role of stake clerks in managing membership records?\", \"Stake clerks oversee membership records and work with ward clerks to ensure accuracy.\"],\n",
    "    [\"https://tech.churchofjesuschrist.org/forum/viewtopic.php?f=50&t=39088\", \"How can I find comprehensive training for my calling as a clerk?\", \"Use the Help Center, training videos, and collaborate with other clerks in the forum.\"],\n",
    "    [\"https://tech.churchofjesuschrist.org/forum/viewtopic.php?f=50&t=39092\", \"What should I do if I can't update certain positions in LCR?\", \"Ensure you are updating the correct organization and category, and contact support if issues persist.\"],\n",
    "    [\"https://tech.churchofjesuschrist.org/forum/viewtopic.php?f=50&t=39074\", \"How do I handle discrepancies in attendance tracking?\", \"Regularly update records and cross-check with other clerks for accuracy.\"],\n",
    "    [\"https://tech.churchofjesuschrist.org/forum/viewtopic.php?f=50&t=39097\", \"Why are stake clerks restricted from updating certain ward positions?\", \"Specific positions must be managed by the ward to maintain proper leadership structure.\"],\n",
    "    [\"https://tech.churchofjesuschrist.org/forum/viewtopic.php?f=50&t=39088\", \"How do I update member records when someone moves in?\", \"The ward clerk should request the records from the previous ward, and once received, update the member's information in the system.\"],\n",
    "    [\"https://tech.churchofjesuschrist.org/forum/viewtopic.php?f=50&t=39092\", \"What should I do if I encounter issues with LCR access?\", \"Ensure you have the proper permissions and that your calling is correctly recorded. Contact the support team if issues persist.\"],\n",
    "    [\"https://tech.churchofjesuschrist.org/forum/viewtopic.php?f=50&t=39088\", \"How do I handle financial discrepancies in ward accounts?\", \"Review financial records, compare with bank statements, and consult with the stake financial clerk if discrepancies cannot be resolved.\"],\n",
    "    [\"https://tech.churchofjesuschrist.org/forum/viewtopic.php?f=50&t=39094\", \"What are the responsibilities of an assistant financial clerk?\", \"An assistant financial clerk helps with tithing, donations, and financial record-keeping under the direction of the ward financial clerk.\"],\n",
    "    [\"https://tech.churchofjesuschrist.org/forum/viewtopic.php?f=50&t=39092\", \"Can I access LCR on a mobile device?\", \"Yes, LCR can be accessed on mobile devices via a web browser, though some features may be more user-friendly on a computer.\"],\n",
    "    [\"https://tech.churchofjesuschrist.org/forum/viewtopic.php?f=50&t=39074\", \"How do I ensure data privacy when handling membership records?\", \"Follow the church's data privacy guidelines, ensure sensitive information is not shared unnecessarily, and use secure systems for record-keeping.\"],\n",
    "    [\"https://tech.churchofjesuschrist.org/forum/viewtopic.php?f=50&t=39097\", \"What is the best way to train new ward clerks?\", \"Provide access to the Help Center, training videos, and encourage collaboration with experienced clerks.\"],\n",
    "    [\"https://tech.churchofjesuschrist.org/forum/viewtopic.php?f=50&t=39088\", \"How do I update callings in the church directory?\", \"Use the LCR system to update callings under the appropriate categories and organizations.\"],\n",
    "    [\"https://tech.churchofjesuschrist.org/forum/viewtopic.php?f=50&t=39092\", \"How do I report a problem with the LCR system?\", \"Contact the church's technical support team and provide detailed information about the issue.\"],\n",
    "    [\"https://tech.churchofjesuschrist.org/forum/viewtopic.php?f=50&t=39074\", \"What should I do if I can't find specific training materials?\", \"Search the Help Center, ask for recommendations in the forum, and collaborate with other clerks.\"],\n",
    "    [\"https://tech.churchofjesuschrist.org/forum/viewtopic.php?f=50&t=39094\", \"How do I handle duplicate member records?\", \"Merge duplicate records in LCR by ensuring all information is accurately combined under one member profile.\"],\n",
    "    [\"https://tech.churchofjesuschrist.org/forum/viewtopic.php?f=50&t=39097\", \"What is the process for updating stake leadership positions?\", \"Stake leadership positions are updated through the LCR system by those with the appropriate permissions.\"],\n",
    "    [\"https://tech.churchofjesuschrist.org/forum/viewtopic.php?f=50&t=39074\", \"How do I track tithing and donations accurately?\", \"Use the LCR Finance system to record and track tithing and donations, ensuring all records are updated and reconciled regularly.\"],\n",
    "    [\"https://tech.churchofjesuschrist.org/forum/viewtopic.php?f=50&t=39088\", \"What should I do if I encounter errors in LCR?\", \"Report errors to the church's technical support team and follow any troubleshooting steps provided.\"],\n",
    "    [\"https://tech.churchofjesuschrist.org/forum/viewtopic.php?f=50&t=39092\", \"How do I manage member updates for new move-ins?\", \"Request records from the previous ward and update the member's information in the LCR system once received.\"],\n",
    "    [\"https://tech.churchofjesuschrist.org/forum/viewtopic.php?f=50&t=39097\", \"Can I assign multiple people to the same clerk position?\", \"No, each clerk position should be held by a single individual to avoid conflicts and ensure clear responsibilities.\"],\n",
    "    [\"https://tech.churchofjesuschrist.org/forum/viewtopic.php?f=50&t=39094\", \"How do I ensure accurate attendance reporting?\", \"Regularly update attendance records in LCR or Member Tools and cross-check with other clerks for consistency.\"]\n",
    "]\n"
   ]
  },
  {
   "cell_type": "code",
   "execution_count": 2,
   "metadata": {},
   "outputs": [
    {
     "name": "stdout",
     "output_type": "stream",
     "text": [
      "Data has been written to clerk_guide.csv\n"
     ]
    }
   ],
   "source": [
    "# File path to save the CSV file\n",
    "file_path = 'clerk_guide.csv'\n",
    "\n",
    "# Writing data to CSV file\n",
    "with open(file_path, 'w', newline='') as file:\n",
    "    writer = csv.writer(file)\n",
    "    writer.writerows(data)\n",
    "\n",
    "print(f\"Data has been written to {file_path}\")\n"
   ]
  }
 ],
 "metadata": {
  "kernelspec": {
   "display_name": ".venv",
   "language": "python",
   "name": "python3"
  },
  "language_info": {
   "codemirror_mode": {
    "name": "ipython",
    "version": 3
   },
   "file_extension": ".py",
   "mimetype": "text/x-python",
   "name": "python",
   "nbconvert_exporter": "python",
   "pygments_lexer": "ipython3",
   "version": "3.11.9"
  }
 },
 "nbformat": 4,
 "nbformat_minor": 2
}
